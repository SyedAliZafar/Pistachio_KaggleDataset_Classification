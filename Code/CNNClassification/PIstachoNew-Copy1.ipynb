{
 "cells": [
  {
   "cell_type": "code",
   "execution_count": 2,
   "id": "89dcbcc0",
   "metadata": {},
   "outputs": [
    {
     "name": "stdout",
     "output_type": "stream",
     "text": [
      "Collecting split-folders\n",
      "  Downloading split_folders-0.5.1-py3-none-any.whl (8.4 kB)\n",
      "Installing collected packages: split-folders\n",
      "Successfully installed split-folders-0.5.1\n"
     ]
    }
   ],
   "source": [
    "!pip install split-folders"
   ]
  },
  {
   "cell_type": "code",
   "execution_count": 1,
   "id": "76d2fbc2",
   "metadata": {},
   "outputs": [
    {
     "name": "stderr",
     "output_type": "stream",
     "text": [
      "C:\\Users\\aliz\\Anaconda3\\envs\\Time_Series\\lib\\site-packages\\requests\\__init__.py:104: RequestsDependencyWarning: urllib3 (1.26.9) or chardet (5.0.0)/charset_normalizer (2.0.12) doesn't match a supported version!\n",
      "  RequestsDependencyWarning)\n",
      "C:\\Users\\aliz\\Anaconda3\\envs\\Time_Series\\lib\\site-packages\\requests\\__init__.py:104: RequestsDependencyWarning: urllib3 (1.26.9) or chardet (5.0.0)/charset_normalizer (2.0.12) doesn't match a supported version!\n",
      "  RequestsDependencyWarning)\n"
     ]
    }
   ],
   "source": [
    "import pathlib\n",
    "import splitfolders\n",
    "import tensorflow as tf\n",
    "from tensorflow.keras.applications import MobileNetV2\n",
    "from tensorflow.keras.preprocessing.image import ImageDataGenerator\n",
    "from tensorflow.keras.layers import Dense, GlobalAveragePooling2D, Dropout\n",
    "from tensorflow.keras.models import Model\n",
    "import os"
   ]
  },
  {
   "cell_type": "code",
   "execution_count": 2,
   "id": "cb2928f6",
   "metadata": {},
   "outputs": [
    {
     "name": "stderr",
     "output_type": "stream",
     "text": [
      "Copying files: 2148 files [00:02, 981.03 files/s] \n"
     ]
    }
   ],
   "source": [
    "import pathlib\n",
    "Dataset_dir = r'D:\\Mubassira\\KaggleProject\\Pistacho\\Pistachio_Image_Dataset\\Pistachio_Image_Dataset'\n",
    "Dataset_dir =pathlib.Path(Dataset_dir)\n",
    "\n",
    "splitfolders.ratio(Dataset_dir, output=\"Pistachio_dataset\", seed=101, ratio=(.7, .2, .1))"
   ]
  },
  {
   "cell_type": "code",
   "execution_count": 3,
   "id": "b64bb1b0",
   "metadata": {},
   "outputs": [
    {
     "data": {
      "text/plain": [
       "WindowsPath('D:/Mubassira/KaggleProject/Pistacho/Pistachio_Image_Dataset/Pistachio_Image_Dataset')"
      ]
     },
     "execution_count": 3,
     "metadata": {},
     "output_type": "execute_result"
    }
   ],
   "source": [
    "Dataset_dir \n"
   ]
  },
  {
   "cell_type": "code",
   "execution_count": 4,
   "id": "70f0dafd",
   "metadata": {},
   "outputs": [],
   "source": [
    "## Shape of the image"
   ]
  },
  {
   "cell_type": "code",
   "execution_count": null,
   "id": "c29281c8",
   "metadata": {},
   "outputs": [],
   "source": []
  },
  {
   "cell_type": "code",
   "execution_count": 5,
   "id": "d207d99f",
   "metadata": {},
   "outputs": [
    {
     "name": "stdout",
     "output_type": "stream",
     "text": [
      "Image shape: (height=600, width=600, channels=3)\n"
     ]
    }
   ],
   "source": [
    "# We can check image shape using this code\n",
    "import cv2\n",
    "import numpy as np\n",
    "\n",
    "# Load the image\n",
    "image = cv2.imread('../Pistachio_Image_Dataset/Pistachio_dataset/train/Kirmizi_Pistachio/kirmizi (12).jpg')\n",
    "\n",
    "# Check the shape of the image\n",
    "height, width, channels = image.shape\n",
    "# Dataset comprises of images of shape: (600,600,3)\n",
    "# Print the image shape\n",
    "print(f\"Image shape: (height={height}, width={width}, channels={channels})\")"
   ]
  },
  {
   "cell_type": "code",
   "execution_count": null,
   "id": "ebf58393",
   "metadata": {},
   "outputs": [],
   "source": []
  },
  {
   "cell_type": "code",
   "execution_count": 6,
   "id": "85f5916a",
   "metadata": {},
   "outputs": [],
   "source": [
    "training_dir = \"../Pistachio_Image_Dataset/Pistachio_dataset/train\"\n",
    "test_dir = \"../Pistachio_Image_Dataset/Pistachio_dataset/test\"\n",
    "val_dir = \"../Pistachio_Image_Dataset/Pistachio_dataset/val\""
   ]
  },
  {
   "cell_type": "code",
   "execution_count": 14,
   "id": "5fdd8d13",
   "metadata": {},
   "outputs": [],
   "source": [
    "\n",
    "\n",
    "# Display the image in a window with the name \"image\"\n",
    "cv2.imshow(\"image\", image)\n",
    "# Wait for a key event and close the window when a key is pressed\n",
    "cv2.waitKey(0)\n",
    "cv2.destroyAllWindows()"
   ]
  },
  {
   "cell_type": "code",
   "execution_count": null,
   "id": "6fd59ba4",
   "metadata": {},
   "outputs": [],
   "source": []
  },
  {
   "cell_type": "markdown",
   "id": "cedf794e",
   "metadata": {},
   "source": [
    "##\n",
    "Data augmentation is a technique used to artificially increase the diversity of your training dataset by applying various transformations to the existing images. This helps improve the generalization and robustness of a machine learning model. Let's go through each parameter in your code:"
   ]
  },
  {
   "cell_type": "code",
   "execution_count": 7,
   "id": "3ad15779",
   "metadata": {},
   "outputs": [],
   "source": [
    "# Define image size and batch size\n",
    "image_height, image_width = 224, 224\n",
    "batch_size = 32\n",
    "\n",
    "# Data Augmentation for Training\n",
    "train_datagen = ImageDataGenerator(\n",
    "    rescale=1./255,\n",
    "    brightness_range=[0.8, 1.2],\n",
    "    width_shift_range=0.2,\n",
    "    height_shift_range=0.2,\n",
    "    rotation_range=20,\n",
    "    shear_range=0.2,\n",
    "    zoom_range=0.2,\n",
    "    horizontal_flip=True,\n",
    "    fill_mode='nearest'\n",
    ")\n",
    "\n",
    "# Validation Data Generator (No Data Augmentation)\n",
    "val_datagen = ImageDataGenerator(rescale=1./255)"
   ]
  },
  {
   "cell_type": "markdown",
   "id": "9a023e7b",
   "metadata": {},
   "source": [
    "### Load and Preprocess Data:\n",
    "* Load your dataset and preprocess it. \n",
    "* If you are working with image data, you might use the ImageDataGenerator for data augmentation and preprocessing."
   ]
  },
  {
   "cell_type": "code",
   "execution_count": 9,
   "id": "8cbcccca",
   "metadata": {},
   "outputs": [
    {
     "name": "stdout",
     "output_type": "stream",
     "text": [
      "Found 1503 images belonging to 2 classes.\n",
      "Found 429 images belonging to 2 classes.\n"
     ]
    }
   ],
   "source": [
    "# Training Data Generator\n",
    "# Training Data Generator\n",
    "train_generator = train_datagen.flow_from_directory(\n",
    "    training_dir,\n",
    "    target_size=(image_height, image_width),\n",
    "    batch_size=batch_size,\n",
    "    class_mode='categorical',\n",
    "    classes=['Kirmizi_Pistachio', 'Siirt_Pistachio']  # Specify class labels\n",
    ")\n",
    "\n",
    "# Validation Data Generator\n",
    "\n",
    "val_datagen = ImageDataGenerator(\n",
    "    rescale=1./255\n",
    ")\n",
    "\n",
    "val_generator = val_datagen.flow_from_directory(\n",
    "    val_dir,\n",
    "    target_size=(image_height, image_width),\n",
    "    batch_size=batch_size,\n",
    "    class_mode='categorical',\n",
    "    classes=['Kirmizi_Pistachio', 'Siirt_Pistachio']  # Specify class labels\n",
    ")"
   ]
  },
  {
   "cell_type": "code",
   "execution_count": 10,
   "id": "3b23d5c9",
   "metadata": {},
   "outputs": [
    {
     "name": "stdout",
     "output_type": "stream",
     "text": [
      "Found 216 images belonging to 2 classes.\n"
     ]
    }
   ],
   "source": [
    "\n",
    "# We have to created image generator for the validation dataset\n",
    "\n",
    "\n",
    "# For testing\n",
    "\n",
    "test_datagen = ImageDataGenerator(\n",
    "    rescale=1./255\n",
    "    )\n",
    "test_generator = test_datagen.flow_from_directory(\n",
    "    test_dir,\n",
    "    target_size=(image_height, image_width),\n",
    "    batch_size=batch_size,\n",
    "    class_mode='categorical',\n",
    "    shuffle = True,\n",
    "    classes=['Kirmizi_Pistachio', 'Siirt_Pistachio']  # Specify class labels\n",
    ")"
   ]
  },
  {
   "cell_type": "code",
   "execution_count": 23,
   "id": "2397e531",
   "metadata": {},
   "outputs": [],
   "source": [
    " ## After the dataset are seperated,we need to make the label file according to each file"
   ]
  },
  {
   "cell_type": "code",
   "execution_count": 15,
   "id": "cd768478",
   "metadata": {},
   "outputs": [
    {
     "name": "stdout",
     "output_type": "stream",
     "text": [
      "Total number of training images:  1503\n"
     ]
    }
   ],
   "source": [
    "import pandas as pd\n",
    "import glob\n",
    "\n",
    "Total_TrainImages = glob.glob('../Pistachio_Image_Dataset/Pistachio_dataset/train/*/*.jpg')\n",
    "print(\"Total number of training images: \", len(Total_TrainImages))\n"
   ]
  },
  {
   "cell_type": "code",
   "execution_count": 11,
   "id": "6d8e7120",
   "metadata": {},
   "outputs": [],
   "source": [
    "# Get a batch of images and labels\n",
    "images, labels = next(train_generator)"
   ]
  },
  {
   "cell_type": "code",
   "execution_count": 13,
   "id": "c5d19542",
   "metadata": {},
   "outputs": [
    {
     "name": "stdout",
     "output_type": "stream",
     "text": [
      "Batch shape - Images: (32, 224, 224, 3)\n",
      "Batch shape - Labels: (32, 2)\n",
      "Image 1: Label - [1. 0.]\n",
      "Image 2: Label - [0. 1.]\n",
      "Image 3: Label - [1. 0.]\n",
      "Image 4: Label - [1. 0.]\n",
      "Image 5: Label - [0. 1.]\n"
     ]
    }
   ],
   "source": [
    "# Get a batch of images and labels\n",
    "images, labels = next(train_generator)\n",
    "\n",
    "# Print the shape of the batch\n",
    "print(\"Batch shape - Images:\", images.shape)\n",
    "print(\"Batch shape - Labels:\", labels.shape)\n",
    "\n",
    "# Print the labels for the first few images\n",
    "for i in range(min(batch_size, 5)):  # Print labels for the first 5 images\n",
    "    print(f\"Image {i+1}: Label - {labels[i]}\")"
   ]
  },
  {
   "cell_type": "code",
   "execution_count": 18,
   "id": "e88a54ef",
   "metadata": {},
   "outputs": [],
   "source": [
    "# Initialize lists to store file paths and labels\n",
    "file_paths = []\n",
    "labels = []\n",
    "\n",
    "# Specify the number of batches to visualize (adjust as needed)\n",
    "num_batches = 5\n",
    "\n",
    "# Iterate through the generator and accumulate file paths and labels\n",
    "for _ in range(num_batches):\n",
    "    batch_images, batch_labels = next(train_generator)\n",
    "    batch_file_paths = train_generator.filepaths  # Get the file paths from the generator\n",
    "\n",
    "    file_paths.extend(batch_file_paths)\n",
    "    labels.extend(batch_labels)\n",
    "\n",
    "# Convert lists to a Pandas DataFrame\n",
    "df = pd.DataFrame({\n",
    "    'File_Path': file_paths[:len(labels)],  # Ensure both lists have the same length\n",
    "    'Label': np.argmax(labels, axis=1)  # Convert one-hot encoded labels to class indices\n",
    "})\n",
    "\n"
   ]
  },
  {
   "cell_type": "code",
   "execution_count": 19,
   "id": "a7bc6288",
   "metadata": {},
   "outputs": [
    {
     "data": {
      "text/html": [
       "<div>\n",
       "<style scoped>\n",
       "    .dataframe tbody tr th:only-of-type {\n",
       "        vertical-align: middle;\n",
       "    }\n",
       "\n",
       "    .dataframe tbody tr th {\n",
       "        vertical-align: top;\n",
       "    }\n",
       "\n",
       "    .dataframe thead th {\n",
       "        text-align: right;\n",
       "    }\n",
       "</style>\n",
       "<table border=\"1\" class=\"dataframe\">\n",
       "  <thead>\n",
       "    <tr style=\"text-align: right;\">\n",
       "      <th></th>\n",
       "      <th>File_Path</th>\n",
       "      <th>Label</th>\n",
       "    </tr>\n",
       "  </thead>\n",
       "  <tbody>\n",
       "    <tr>\n",
       "      <th>0</th>\n",
       "      <td>../Pistachio_Image_Dataset/Pistachio_dataset/t...</td>\n",
       "      <td>0</td>\n",
       "    </tr>\n",
       "    <tr>\n",
       "      <th>1</th>\n",
       "      <td>../Pistachio_Image_Dataset/Pistachio_dataset/t...</td>\n",
       "      <td>1</td>\n",
       "    </tr>\n",
       "    <tr>\n",
       "      <th>2</th>\n",
       "      <td>../Pistachio_Image_Dataset/Pistachio_dataset/t...</td>\n",
       "      <td>0</td>\n",
       "    </tr>\n",
       "    <tr>\n",
       "      <th>3</th>\n",
       "      <td>../Pistachio_Image_Dataset/Pistachio_dataset/t...</td>\n",
       "      <td>0</td>\n",
       "    </tr>\n",
       "    <tr>\n",
       "      <th>4</th>\n",
       "      <td>../Pistachio_Image_Dataset/Pistachio_dataset/t...</td>\n",
       "      <td>0</td>\n",
       "    </tr>\n",
       "  </tbody>\n",
       "</table>\n",
       "</div>"
      ],
      "text/plain": [
       "                                           File_Path  Label\n",
       "0  ../Pistachio_Image_Dataset/Pistachio_dataset/t...      0\n",
       "1  ../Pistachio_Image_Dataset/Pistachio_dataset/t...      1\n",
       "2  ../Pistachio_Image_Dataset/Pistachio_dataset/t...      0\n",
       "3  ../Pistachio_Image_Dataset/Pistachio_dataset/t...      0\n",
       "4  ../Pistachio_Image_Dataset/Pistachio_dataset/t...      0"
      ]
     },
     "execution_count": 19,
     "metadata": {},
     "output_type": "execute_result"
    }
   ],
   "source": [
    "df.head()"
   ]
  },
  {
   "cell_type": "code",
   "execution_count": 20,
   "id": "04dfea73",
   "metadata": {
    "scrolled": true
   },
   "outputs": [
    {
     "data": {
      "text/html": [
       "<div>\n",
       "<style scoped>\n",
       "    .dataframe tbody tr th:only-of-type {\n",
       "        vertical-align: middle;\n",
       "    }\n",
       "\n",
       "    .dataframe tbody tr th {\n",
       "        vertical-align: top;\n",
       "    }\n",
       "\n",
       "    .dataframe thead th {\n",
       "        text-align: right;\n",
       "    }\n",
       "</style>\n",
       "<table border=\"1\" class=\"dataframe\">\n",
       "  <thead>\n",
       "    <tr style=\"text-align: right;\">\n",
       "      <th></th>\n",
       "      <th>File_Path</th>\n",
       "      <th>Label</th>\n",
       "    </tr>\n",
       "  </thead>\n",
       "  <tbody>\n",
       "    <tr>\n",
       "      <th>0</th>\n",
       "      <td>../Pistachio_Image_Dataset/Pistachio_dataset/t...</td>\n",
       "      <td>0</td>\n",
       "    </tr>\n",
       "    <tr>\n",
       "      <th>1</th>\n",
       "      <td>../Pistachio_Image_Dataset/Pistachio_dataset/t...</td>\n",
       "      <td>1</td>\n",
       "    </tr>\n",
       "    <tr>\n",
       "      <th>2</th>\n",
       "      <td>../Pistachio_Image_Dataset/Pistachio_dataset/t...</td>\n",
       "      <td>0</td>\n",
       "    </tr>\n",
       "    <tr>\n",
       "      <th>3</th>\n",
       "      <td>../Pistachio_Image_Dataset/Pistachio_dataset/t...</td>\n",
       "      <td>0</td>\n",
       "    </tr>\n",
       "    <tr>\n",
       "      <th>4</th>\n",
       "      <td>../Pistachio_Image_Dataset/Pistachio_dataset/t...</td>\n",
       "      <td>0</td>\n",
       "    </tr>\n",
       "    <tr>\n",
       "      <th>...</th>\n",
       "      <td>...</td>\n",
       "      <td>...</td>\n",
       "    </tr>\n",
       "    <tr>\n",
       "      <th>155</th>\n",
       "      <td>../Pistachio_Image_Dataset/Pistachio_dataset/t...</td>\n",
       "      <td>0</td>\n",
       "    </tr>\n",
       "    <tr>\n",
       "      <th>156</th>\n",
       "      <td>../Pistachio_Image_Dataset/Pistachio_dataset/t...</td>\n",
       "      <td>0</td>\n",
       "    </tr>\n",
       "    <tr>\n",
       "      <th>157</th>\n",
       "      <td>../Pistachio_Image_Dataset/Pistachio_dataset/t...</td>\n",
       "      <td>0</td>\n",
       "    </tr>\n",
       "    <tr>\n",
       "      <th>158</th>\n",
       "      <td>../Pistachio_Image_Dataset/Pistachio_dataset/t...</td>\n",
       "      <td>0</td>\n",
       "    </tr>\n",
       "    <tr>\n",
       "      <th>159</th>\n",
       "      <td>../Pistachio_Image_Dataset/Pistachio_dataset/t...</td>\n",
       "      <td>1</td>\n",
       "    </tr>\n",
       "  </tbody>\n",
       "</table>\n",
       "<p>160 rows × 2 columns</p>\n",
       "</div>"
      ],
      "text/plain": [
       "                                             File_Path  Label\n",
       "0    ../Pistachio_Image_Dataset/Pistachio_dataset/t...      0\n",
       "1    ../Pistachio_Image_Dataset/Pistachio_dataset/t...      1\n",
       "2    ../Pistachio_Image_Dataset/Pistachio_dataset/t...      0\n",
       "3    ../Pistachio_Image_Dataset/Pistachio_dataset/t...      0\n",
       "4    ../Pistachio_Image_Dataset/Pistachio_dataset/t...      0\n",
       "..                                                 ...    ...\n",
       "155  ../Pistachio_Image_Dataset/Pistachio_dataset/t...      0\n",
       "156  ../Pistachio_Image_Dataset/Pistachio_dataset/t...      0\n",
       "157  ../Pistachio_Image_Dataset/Pistachio_dataset/t...      0\n",
       "158  ../Pistachio_Image_Dataset/Pistachio_dataset/t...      0\n",
       "159  ../Pistachio_Image_Dataset/Pistachio_dataset/t...      1\n",
       "\n",
       "[160 rows x 2 columns]"
      ]
     },
     "execution_count": 20,
     "metadata": {},
     "output_type": "execute_result"
    }
   ],
   "source": [
    "df"
   ]
  },
  {
   "cell_type": "code",
   "execution_count": 31,
   "id": "ec5abd63",
   "metadata": {},
   "outputs": [],
   "source": [
    "from tensorflow.keras.models import Sequential\n",
    "from tensorflow.keras.layers import Conv2D, MaxPooling2D, Flatten, Dense\n",
    "\n",
    "\n",
    "model = Sequential()\n",
    "\n",
    "model.add(Conv2D(32, (3, 3), activation='relu', input_shape=(image_height, image_width, 3)))\n",
    "model.add(MaxPooling2D((2, 2)))\n",
    "\n",
    "model.add(Conv2D(64, (3, 3), activation='relu'))\n",
    "model.add(MaxPooling2D((2, 2)))\n",
    "\n",
    "model.add(Conv2D(128, (3, 3), activation='relu'))\n",
    "model.add(MaxPooling2D((2, 2)))\n",
    "\n",
    "model.add(Flatten())\n",
    "model.add(Dense(128, activation='relu'))\n",
    "model.add(Dense(2, activation='softmax'))  # Assuming 2 classes: Kirmizi_Pistachio and Siirt_Pistachio\n",
    "model.compile(optimizer='adam', loss='categorical_crossentropy', metrics=['accuracy'])\n"
   ]
  },
  {
   "cell_type": "code",
   "execution_count": 32,
   "id": "8d6495d6",
   "metadata": {},
   "outputs": [
    {
     "name": "stdout",
     "output_type": "stream",
     "text": [
      "Epoch 1/5\n",
      "47/47 [==============================] - 52s 1s/step - loss: 0.8219 - accuracy: 0.5462 - val_loss: 0.6897 - val_accuracy: 0.5734\n",
      "Epoch 2/5\n",
      "47/47 [==============================] - 46s 980ms/step - loss: 0.6537 - accuracy: 0.6148 - val_loss: 0.6087 - val_accuracy: 0.7156\n",
      "Epoch 3/5\n",
      "47/47 [==============================] - 43s 918ms/step - loss: 0.5965 - accuracy: 0.6833 - val_loss: 0.5552 - val_accuracy: 0.6597\n",
      "Epoch 4/5\n",
      "47/47 [==============================] - 43s 916ms/step - loss: 0.6492 - accuracy: 0.6228 - val_loss: 0.6025 - val_accuracy: 0.6830\n",
      "Epoch 5/5\n",
      "47/47 [==============================] - 44s 938ms/step - loss: 0.5879 - accuracy: 0.6919 - val_loss: 0.5234 - val_accuracy: 0.7949\n"
     ]
    },
    {
     "data": {
      "text/plain": [
       "<keras.callbacks.History at 0x21433d6da90>"
      ]
     },
     "execution_count": 32,
     "metadata": {},
     "output_type": "execute_result"
    }
   ],
   "source": [
    "num_epochs = 5  # You can adjust this based on your needs\n",
    "\n",
    "model.fit(\n",
    "    train_generator,\n",
    "    epochs=num_epochs,\n",
    "    validation_data=val_generator\n",
    ")\n"
   ]
  },
  {
   "cell_type": "code",
   "execution_count": 33,
   "id": "f4c839b9",
   "metadata": {},
   "outputs": [
    {
     "name": "stdout",
     "output_type": "stream",
     "text": [
      "7/7 [==============================] - 1s 186ms/step - loss: 0.5399 - accuracy: 0.7824\n",
      "Test Accuracy: 0.7824074029922485\n"
     ]
    }
   ],
   "source": [
    "# Evaluate the model on the test set\n",
    "test_loss, test_accuracy = model.evaluate(test_generator)\n",
    "print(f\"Test Accuracy: {test_accuracy}\")"
   ]
  },
  {
   "cell_type": "code",
   "execution_count": null,
   "id": "4b07d9ce",
   "metadata": {},
   "outputs": [],
   "source": []
  }
 ],
 "metadata": {
  "kernelspec": {
   "display_name": "Python 3",
   "language": "python",
   "name": "python3"
  },
  "language_info": {
   "codemirror_mode": {
    "name": "ipython",
    "version": 3
   },
   "file_extension": ".py",
   "mimetype": "text/x-python",
   "name": "python",
   "nbconvert_exporter": "python",
   "pygments_lexer": "ipython3",
   "version": "3.6.15"
  }
 },
 "nbformat": 4,
 "nbformat_minor": 5
}
