{
 "cells": [
  {
   "cell_type": "code",
   "execution_count": 10,
   "id": "0239a04f",
   "metadata": {},
   "outputs": [
    {
     "name": "stderr",
     "output_type": "stream",
     "text": [
      "C:\\Users\\aliz\\Anaconda3\\envs\\Time_Series\\lib\\site-packages\\requests\\__init__.py:104: RequestsDependencyWarning: urllib3 (1.26.9) or chardet (5.0.0)/charset_normalizer (2.0.12) doesn't match a supported version!\n",
      "  RequestsDependencyWarning)\n",
      "C:\\Users\\aliz\\Anaconda3\\envs\\Time_Series\\lib\\site-packages\\requests\\__init__.py:104: RequestsDependencyWarning: urllib3 (1.26.9) or chardet (5.0.0)/charset_normalizer (2.0.12) doesn't match a supported version!\n",
      "  RequestsDependencyWarning)\n"
     ]
    }
   ],
   "source": [
    "#Import basic ML Libs\n",
    "import numpy as np\n",
    "import pandas as pd\n",
    "import os\n",
    "import tensorflow as tf\n",
    "import tensorflow.keras.layers as layers\n",
    "import matplotlib.pyplot as plt\n",
    "import itertools\n",
    "\n",
    "#Import image read library\n",
    "from PIL import Image\n",
    "\n",
    "#Import ML library\n",
    "from sklearn.preprocessing import LabelEncoder\n",
    "from sklearn.model_selection import train_test_split\n",
    "from sklearn.metrics import classification_report, f1_score , confusion_matrix\n",
    "\n",
    "#Import tensorflow for image processing and training\n",
    "from tensorflow.keras.preprocessing.image import ImageDataGenerator\n",
    "from tensorflow.keras import Sequential\n",
    "from tensorflow.keras.layers import Input, Dense, BatchNormalization, Dropout\n",
    "from tensorflow.keras.optimizers import Adam\n",
    "from tensorflow.keras.metrics import BinaryAccuracy, Precision, Recall, AUC, RootMeanSquaredError\n",
    "from tensorflow.keras.callbacks import EarlyStopping, ReduceLROnPlateau, TensorBoard"
   ]
  },
  {
   "cell_type": "code",
   "execution_count": 12,
   "id": "937f56d0",
   "metadata": {},
   "outputs": [
    {
     "data": {
      "text/html": [
       "<div>\n",
       "<style scoped>\n",
       "    .dataframe tbody tr th:only-of-type {\n",
       "        vertical-align: middle;\n",
       "    }\n",
       "\n",
       "    .dataframe tbody tr th {\n",
       "        vertical-align: top;\n",
       "    }\n",
       "\n",
       "    .dataframe thead th {\n",
       "        text-align: right;\n",
       "    }\n",
       "</style>\n",
       "<table border=\"1\" class=\"dataframe\">\n",
       "  <thead>\n",
       "    <tr style=\"text-align: right;\">\n",
       "      <th></th>\n",
       "      <th>path</th>\n",
       "      <th>label</th>\n",
       "      <th>encoded</th>\n",
       "    </tr>\n",
       "  </thead>\n",
       "  <tbody>\n",
       "    <tr>\n",
       "      <th>408</th>\n",
       "      <td>D:\\Mubassira\\KaggleProject\\Pistacho\\Pistachio_...</td>\n",
       "      <td>Kirmizi_Pistachio</td>\n",
       "      <td>0</td>\n",
       "    </tr>\n",
       "    <tr>\n",
       "      <th>394</th>\n",
       "      <td>D:\\Mubassira\\KaggleProject\\Pistacho\\Pistachio_...</td>\n",
       "      <td>Kirmizi_Pistachio</td>\n",
       "      <td>0</td>\n",
       "    </tr>\n",
       "    <tr>\n",
       "      <th>1574</th>\n",
       "      <td>D:\\Mubassira\\KaggleProject\\Pistacho\\Pistachio_...</td>\n",
       "      <td>Siirt_Pistachio</td>\n",
       "      <td>1</td>\n",
       "    </tr>\n",
       "    <tr>\n",
       "      <th>1756</th>\n",
       "      <td>D:\\Mubassira\\KaggleProject\\Pistacho\\Pistachio_...</td>\n",
       "      <td>Siirt_Pistachio</td>\n",
       "      <td>1</td>\n",
       "    </tr>\n",
       "    <tr>\n",
       "      <th>2112</th>\n",
       "      <td>D:\\Mubassira\\KaggleProject\\Pistacho\\Pistachio_...</td>\n",
       "      <td>Siirt_Pistachio</td>\n",
       "      <td>1</td>\n",
       "    </tr>\n",
       "  </tbody>\n",
       "</table>\n",
       "</div>"
      ],
      "text/plain": [
       "                                                   path              label  \\\n",
       "408   D:\\Mubassira\\KaggleProject\\Pistacho\\Pistachio_...  Kirmizi_Pistachio   \n",
       "394   D:\\Mubassira\\KaggleProject\\Pistacho\\Pistachio_...  Kirmizi_Pistachio   \n",
       "1574  D:\\Mubassira\\KaggleProject\\Pistacho\\Pistachio_...    Siirt_Pistachio   \n",
       "1756  D:\\Mubassira\\KaggleProject\\Pistacho\\Pistachio_...    Siirt_Pistachio   \n",
       "2112  D:\\Mubassira\\KaggleProject\\Pistacho\\Pistachio_...    Siirt_Pistachio   \n",
       "\n",
       "      encoded  \n",
       "408         0  \n",
       "394         0  \n",
       "1574        1  \n",
       "1756        1  \n",
       "2112        1  "
      ]
     },
     "execution_count": 12,
     "metadata": {},
     "output_type": "execute_result"
    }
   ],
   "source": [
    "import os\n",
    "import pandas as pd\n",
    "from sklearn.preprocessing import LabelEncoder\n",
    "\n",
    "# Declare the root path\n",
    "path = r'D:\\Mubassira\\KaggleProject\\Pistacho\\Pistachio_Image_Dataset\\Pistachio_Image_Dataset'\n",
    "\n",
    "# List all directories in the root path\n",
    "folder_list = [f for f in os.listdir(path) if os.path.isdir(os.path.join(path, f))]\n",
    "\n",
    "# This code creates a dataframe containing file path / label / label encoded. Later, I will use ImageDataGenerator.flow_from_dataframe\n",
    "df = {'path': [], 'label': []}\n",
    "\n",
    "for folder in folder_list:\n",
    "    folder_path = os.path.join(path, folder)\n",
    "    file_list = os.listdir(folder_path)\n",
    "\n",
    "    for file in file_list:\n",
    "        file_path = os.path.join(folder_path, file)\n",
    "        df['path'].append(file_path)\n",
    "        df['label'].append(folder)\n",
    "\n",
    "# Create a DataFrame\n",
    "df = pd.DataFrame(df)\n",
    "\n",
    "# Encode labels\n",
    "le = LabelEncoder()\n",
    "df['encoded'] = le.fit_transform(df['label'])\n",
    "\n",
    "df.sample(5)\n"
   ]
  },
  {
   "cell_type": "code",
   "execution_count": null,
   "id": "a6c4018f",
   "metadata": {},
   "outputs": [],
   "source": []
  }
 ],
 "metadata": {
  "kernelspec": {
   "display_name": "Python 3",
   "language": "python",
   "name": "python3"
  },
  "language_info": {
   "codemirror_mode": {
    "name": "ipython",
    "version": 3
   },
   "file_extension": ".py",
   "mimetype": "text/x-python",
   "name": "python",
   "nbconvert_exporter": "python",
   "pygments_lexer": "ipython3",
   "version": "3.6.15"
  }
 },
 "nbformat": 4,
 "nbformat_minor": 5
}
